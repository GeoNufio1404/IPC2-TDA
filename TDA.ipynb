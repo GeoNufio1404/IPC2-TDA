{
  "nbformat": 4,
  "nbformat_minor": 0,
  "metadata": {
    "colab": {
      "name": "TDA.ipynb",
      "provenance": [],
      "authorship_tag": "ABX9TyMyo9Q0AeHEyqqPQRNGnCy3",
      "include_colab_link": true
    },
    "kernelspec": {
      "name": "python3",
      "display_name": "Python 3"
    }
  },
  "cells": [
    {
      "cell_type": "markdown",
      "metadata": {
        "id": "view-in-github",
        "colab_type": "text"
      },
      "source": [
        "<a href=\"https://colab.research.google.com/github/GeoNufio1404/IPC2-TDA/blob/master/TDA.ipynb\" target=\"_parent\"><img src=\"https://colab.research.google.com/assets/colab-badge.svg\" alt=\"Open In Colab\"/></a>"
      ]
    },
    {
      "cell_type": "markdown",
      "metadata": {
        "id": "wHNr7Ko8WsrH"
      },
      "source": [
        "Ejercicio de Listas Enlazadas"
      ]
    },
    {
      "cell_type": "code",
      "metadata": {
        "id": "adVfc5PDWSnf"
      },
      "source": [
        "class cliente:\r\n",
        "    def _init_(self, nombre, no_habitacion):\r\n",
        "      self.nombre = nombre\r\n",
        "      self.no_habitacion = no_habitacion\r\n",
        "      "
      ],
      "execution_count": 3,
      "outputs": []
    },
    {
      "cell_type": "code",
      "metadata": {
        "id": "niK7vfh4WhJ4"
      },
      "source": [
        "class node:\r\n",
        "  def _init_(self, cliente=None, next=None):\r\n",
        "    self.cliente = cliente\r\n",
        "    self.next = next"
      ],
      "execution_count": null,
      "outputs": []
    },
    {
      "cell_type": "code",
      "metadata": {
        "id": "Bkokd2WwYIHa"
      },
      "source": [
        "class linked_list:\r\n",
        "  def _init_(self):\r\n",
        "    self.head = None\r\n",
        "\r\n",
        "  def insertar(self, cliente):\r\n",
        "    if not self.head:\r\n",
        "    self.head = node(cliente = cliente)\r\n",
        "    return \r\n",
        "    current = self.head \r\n",
        "    while current.next:\r\n",
        "    current = current.next\r\n",
        "    current.next = node(cliente = cliente)\r\n",
        "\r\n",
        "  def imprimir(self):\r\n",
        "    node = self.head\r\n",
        "    while node != None:\r\n",
        "    print(node.cliente.nombre, end = \"=>\")\r\n",
        "    node = node.next\r\n",
        "\r\n",
        "  def eliminar(self, no_habitacion):\r\n",
        "    current = self.head\r\n",
        "    previous = None\r\n",
        "\r\n",
        "    while current and current.cliente.no_habitacion != no_habitacion:\r\n",
        "    previous = current\r\n",
        "    current = current.next\r\n",
        "\r\n",
        "    if previous is None:\r\n",
        "    self.head = current.next\r\n",
        "          current.next = None"
      ],
      "execution_count": null,
      "outputs": []
    },
    {
      "cell_type": "markdown",
      "metadata": {
        "id": "j8ZoLW23OoKS"
      },
      "source": [
        "Listas Circulares\r\n"
      ]
    },
    {
      "cell_type": "code",
      "metadata": {
        "id": "rTAPbU7XOqHW"
      },
      "source": [
        "class linked_list_circular:\r\n",
        "  def _init_(self,circular):\r\n",
        "    self.head = head\r\n",
        "    self.size = 0\r\n",
        "\r\n",
        "  def insertar(self, cliente):\r\n",
        "    if self.size == 0:\r\n",
        "      self.head = node(cliente=cliente)\r\n",
        "      self.head.next = self.head\r\n",
        "    else:\r\n",
        "      nez_node = node(cliente = cliente, next = self.head.next)\r\n",
        "      self.head.next = new_node\r\n",
        "\r\n",
        "    self.size += 1\r\n",
        "\r\n",
        "    def imprimir(self):\r\n",
        "      if self.head is None:\r\n",
        "        return\r\n",
        "      node= self.head\r\n",
        "      print(node,client.nombre, end =\" => \")\r\n",
        "      while node.next:\r\n",
        "        print(node,cliente.nombre, end = \" => \")"
      ],
      "execution_count": null,
      "outputs": []
    },
    {
      "cell_type": "code",
      "metadata": {
        "id": "HCbhv-l1fGMP"
      },
      "source": [
        "class linked_list_de:\r\n",
        "  def _init_(self,head = None):\r\n",
        "    self.head = head\r\n",
        "    self.size = 0\r\n",
        "\r\n",
        "  def insertar(self, cliente):\r\n",
        "    if self.size == 0:\r\n",
        "      self.head = node(cliente=cliente)\r\n",
        "      self.head.next = self.head\r\n",
        "    else:\r\n",
        "      nez_node = node(cliente = cliente, next = self.head.next)\r\n",
        "      self.head.next = new_node\r\n",
        "\r\n",
        "    self.size += 1\r\n",
        "\r\n",
        "    def imprimir(self):\r\n",
        "      if self.head is None:\r\n",
        "        return\r\n",
        "      node= self.head\r\n",
        "      print(node,client.nombre, end =\" => \")\r\n",
        "      while node.next:\r\n",
        "        print(node,cliente.nombre, end = \" => \")\r\n",
        "\r\n",
        "    def eliminar(self, no_habitacion):\r\n",
        "      node = self.head\r\n",
        "      while node is not None:\r\n",
        "        if node.cliente.no_habitacion == no_habitacion:\r\n",
        "          if node.previous is not None:\r\n",
        "            if node.next:\r\n",
        "              node.previous.next = node.next\r\n",
        "              node.next.previous = node.previous\r\n",
        "            else:\r\n",
        "              node.previous.next = None\r\n",
        "              self.last = node.previous\r\n",
        "          else:\r\n",
        "            self.head = node.next\r\n",
        "            node.next.previous = self.head\r\n",
        "          self.size -= 1\r\n",
        "          return True\r\n",
        "        else:\r\n",
        "          node = node.next\r\n",
        "        return False"
      ],
      "execution_count": null,
      "outputs": []
    },
    {
      "cell_type": "code",
      "metadata": {
        "id": "LNKWYCDPcxtP"
      },
      "source": [
        "c1 = cliente(\"Estuardo Zapeta\", 101) \r\n",
        "c2 = cliente(\"Marco Lopez\",103)\r\n",
        "c3 = cliente(\"Josue Armas\",204)"
      ],
      "execution_count": null,
      "outputs": []
    },
    {
      "cell_type": "code",
      "metadata": {
        "id": "2EXGsEW6dR2d"
      },
      "source": [
        "lista_de = linked_list()\r\n",
        "lista_de.insertar(c1)\r\n",
        "lista_de.insertar(c2)\r\n",
        "lista_de.insertar(c3)"
      ],
      "execution_count": null,
      "outputs": []
    },
    {
      "cell_type": "code",
      "metadata": {
        "id": "ELToGwoFe5rt"
      },
      "source": [
        "lista_de.imprimir()"
      ],
      "execution_count": null,
      "outputs": []
    },
    {
      "cell_type": "code",
      "metadata": {
        "id": "-OLinfEreT5J"
      },
      "source": [
        "lista_de.eliminar(204)"
      ],
      "execution_count": null,
      "outputs": []
    },
    {
      "cell_type": "markdown",
      "metadata": {
        "id": "2Q2ItVtscgLF"
      },
      "source": [
        "Pilas"
      ]
    },
    {
      "cell_type": "code",
      "metadata": {
        "id": "k_PZ8C7Cchtq"
      },
      "source": [
        "class Pila:\r\n",
        "  def _init_(self):\r\n",
        "    self.pila = []\r\n",
        "\r\n",
        "  def apilar(self,cliente):\r\n",
        "    self.pila.append(cliente)\r\n",
        "\r\n",
        "  def devolver_tamano(self):\r\n",
        "    return len(self.pila)\r\n",
        "\r\n",
        "  def imprimir(self):\r\n",
        "    for elemento in self.pila\r\n",
        "      print(elemento.nombre, end = \" => \")\r\n",
        "\r\n",
        "  def desapilar(self):\r\n",
        "    if (self.pila):\r\n",
        "      self.pila.pop()"
      ],
      "execution_count": 2,
      "outputs": []
    },
    {
      "cell_type": "code",
      "metadata": {
        "colab": {
          "base_uri": "https://localhost:8080/",
          "height": 223
        },
        "id": "z2dnGHFrdVjo",
        "outputId": "5b763b46-66ca-414a-de87-3f8162fbfc66"
      },
      "source": [
        "c1 = cliente(\"Estuardo Zapeta\", 101)\r\n",
        "c2 = cliente(\"Marco Lopez\", 103)\r\n",
        "c3 = cliente(\"Josue Armas\", 204)\r\n",
        "c4 = cliente(\"Gladys Olmos\", 382)"
      ],
      "execution_count": 4,
      "outputs": [
        {
          "output_type": "error",
          "ename": "TypeError",
          "evalue": "ignored",
          "traceback": [
            "\u001b[0;31m---------------------------------------------------------------------------\u001b[0m",
            "\u001b[0;31mTypeError\u001b[0m                                 Traceback (most recent call last)",
            "\u001b[0;32m<ipython-input-4-85a285c10a9d>\u001b[0m in \u001b[0;36m<module>\u001b[0;34m()\u001b[0m\n\u001b[0;32m----> 1\u001b[0;31m \u001b[0mc1\u001b[0m \u001b[0;34m=\u001b[0m \u001b[0mcliente\u001b[0m\u001b[0;34m(\u001b[0m\u001b[0;34m\"Estuardo Zapeta\"\u001b[0m\u001b[0;34m,\u001b[0m \u001b[0;36m101\u001b[0m\u001b[0;34m)\u001b[0m\u001b[0;34m\u001b[0m\u001b[0;34m\u001b[0m\u001b[0m\n\u001b[0m\u001b[1;32m      2\u001b[0m \u001b[0mc2\u001b[0m \u001b[0;34m=\u001b[0m \u001b[0mcliente\u001b[0m\u001b[0;34m(\u001b[0m\u001b[0;34m\"Marco Lopez\"\u001b[0m\u001b[0;34m,\u001b[0m \u001b[0;36m103\u001b[0m\u001b[0;34m)\u001b[0m\u001b[0;34m\u001b[0m\u001b[0;34m\u001b[0m\u001b[0m\n\u001b[1;32m      3\u001b[0m \u001b[0mc3\u001b[0m \u001b[0;34m=\u001b[0m \u001b[0mcliente\u001b[0m\u001b[0;34m(\u001b[0m\u001b[0;34m\"Josue Armas\"\u001b[0m\u001b[0;34m,\u001b[0m \u001b[0;36m204\u001b[0m\u001b[0;34m)\u001b[0m\u001b[0;34m\u001b[0m\u001b[0;34m\u001b[0m\u001b[0m\n\u001b[1;32m      4\u001b[0m \u001b[0mc4\u001b[0m \u001b[0;34m=\u001b[0m \u001b[0mcliente\u001b[0m\u001b[0;34m(\u001b[0m\u001b[0;34m\"Gladys Olmos\"\u001b[0m\u001b[0;34m,\u001b[0m \u001b[0;36m382\u001b[0m\u001b[0;34m)\u001b[0m\u001b[0;34m\u001b[0m\u001b[0;34m\u001b[0m\u001b[0m\n",
            "\u001b[0;31mTypeError\u001b[0m: object() takes no parameters"
          ]
        }
      ]
    },
    {
      "cell_type": "code",
      "metadata": {
        "id": "g0WeChxMdvCg"
      },
      "source": [
        "p = Pila()\r\n",
        "p.apilar(c1)\r\n",
        "p.apilar(c2)\r\n",
        "p.apilar(c3)\r\n",
        "p.apilar(c4)"
      ],
      "execution_count": null,
      "outputs": []
    },
    {
      "cell_type": "code",
      "metadata": {
        "id": "xjVOGr23fbrR"
      },
      "source": [
        "p.devolver_tamano()"
      ],
      "execution_count": null,
      "outputs": []
    },
    {
      "cell_type": "code",
      "metadata": {
        "id": "PA7d6bQxfevB"
      },
      "source": [
        "p.imprimir()"
      ],
      "execution_count": null,
      "outputs": []
    },
    {
      "cell_type": "code",
      "metadata": {
        "id": "pHn2_bxJgarU"
      },
      "source": [
        "p.desapilar()"
      ],
      "execution_count": null,
      "outputs": []
    },
    {
      "cell_type": "code",
      "metadata": {
        "id": "vVZtQxtCgcP8"
      },
      "source": [
        "p.imprimir()"
      ],
      "execution_count": null,
      "outputs": []
    },
    {
      "cell_type": "markdown",
      "metadata": {
        "id": "hos1MjgIiEOg"
      },
      "source": [
        "Cola\r\n"
      ]
    },
    {
      "cell_type": "code",
      "metadata": {
        "id": "VBAtp3qJiFzf"
      },
      "source": [
        "class Cola:\r\n",
        "  def _init_(self):\r\n",
        "    self.cola = []\r\n",
        "\r\n",
        "  def apilar(self,cliente):\r\n",
        "    self.cola.append(cliente)\r\n",
        "\r\n",
        "  def devolver_tamano(self):\r\n",
        "    return len(self.cola)\r\n",
        "\r\n",
        "  def imprimir(self):\r\n",
        "    for elemento in self.cola:\r\n",
        "      print(elemento.nombre, end = \" <= \")\r\n",
        "\r\n",
        "  def desapilar(self):\r\n",
        "    if (self.cola):\r\n",
        "      self.cola.pop(0)"
      ],
      "execution_count": 6,
      "outputs": []
    },
    {
      "cell_type": "code",
      "metadata": {
        "colab": {
          "base_uri": "https://localhost:8080/",
          "height": 223
        },
        "id": "ZqNPXxY2jFnw",
        "outputId": "1da5147d-32fe-4f2e-8fd2-25bb1399449a"
      },
      "source": [
        "c1 = cliente(\"Estuardo Zapeta\", 101)\r\n",
        "c2 = cliente(\"Marco Lopez\", 103)\r\n",
        "c3 = cliente(\"Josue Armas\", 204)\r\n",
        "c4 = cliente(\"Gladys Olmos\", 382)"
      ],
      "execution_count": 7,
      "outputs": [
        {
          "output_type": "error",
          "ename": "TypeError",
          "evalue": "ignored",
          "traceback": [
            "\u001b[0;31m---------------------------------------------------------------------------\u001b[0m",
            "\u001b[0;31mTypeError\u001b[0m                                 Traceback (most recent call last)",
            "\u001b[0;32m<ipython-input-7-85a285c10a9d>\u001b[0m in \u001b[0;36m<module>\u001b[0;34m()\u001b[0m\n\u001b[0;32m----> 1\u001b[0;31m \u001b[0mc1\u001b[0m \u001b[0;34m=\u001b[0m \u001b[0mcliente\u001b[0m\u001b[0;34m(\u001b[0m\u001b[0;34m\"Estuardo Zapeta\"\u001b[0m\u001b[0;34m,\u001b[0m \u001b[0;36m101\u001b[0m\u001b[0;34m)\u001b[0m\u001b[0;34m\u001b[0m\u001b[0;34m\u001b[0m\u001b[0m\n\u001b[0m\u001b[1;32m      2\u001b[0m \u001b[0mc2\u001b[0m \u001b[0;34m=\u001b[0m \u001b[0mcliente\u001b[0m\u001b[0;34m(\u001b[0m\u001b[0;34m\"Marco Lopez\"\u001b[0m\u001b[0;34m,\u001b[0m \u001b[0;36m103\u001b[0m\u001b[0;34m)\u001b[0m\u001b[0;34m\u001b[0m\u001b[0;34m\u001b[0m\u001b[0m\n\u001b[1;32m      3\u001b[0m \u001b[0mc3\u001b[0m \u001b[0;34m=\u001b[0m \u001b[0mcliente\u001b[0m\u001b[0;34m(\u001b[0m\u001b[0;34m\"Josue Armas\"\u001b[0m\u001b[0;34m,\u001b[0m \u001b[0;36m204\u001b[0m\u001b[0;34m)\u001b[0m\u001b[0;34m\u001b[0m\u001b[0;34m\u001b[0m\u001b[0m\n\u001b[1;32m      4\u001b[0m \u001b[0mc4\u001b[0m \u001b[0;34m=\u001b[0m \u001b[0mcliente\u001b[0m\u001b[0;34m(\u001b[0m\u001b[0;34m\"Gladys Olmos\"\u001b[0m\u001b[0;34m,\u001b[0m \u001b[0;36m382\u001b[0m\u001b[0;34m)\u001b[0m\u001b[0;34m\u001b[0m\u001b[0;34m\u001b[0m\u001b[0m\n",
            "\u001b[0;31mTypeError\u001b[0m: object() takes no parameters"
          ]
        }
      ]
    },
    {
      "cell_type": "code",
      "metadata": {
        "id": "-M95Sa8NjGEI"
      },
      "source": [
        "c = Cola()\r\n",
        "c.encolar(c1)\r\n",
        "c.encolar(c2)\r\n",
        "c.encolar(c3)\r\n",
        "c.encolar(c4)"
      ],
      "execution_count": null,
      "outputs": []
    },
    {
      "cell_type": "code",
      "metadata": {
        "id": "Va_K2tpsjMge"
      },
      "source": [
        "c.devolver_tamano()"
      ],
      "execution_count": null,
      "outputs": []
    },
    {
      "cell_type": "code",
      "metadata": {
        "id": "-xN_RILikMQF"
      },
      "source": [
        "c.imprimir()"
      ],
      "execution_count": null,
      "outputs": []
    }
  ]
}